{
 "cells": [
  {
   "cell_type": "code",
   "execution_count": 108,
   "id": "f07d984c",
   "metadata": {
    "scrolled": true
   },
   "outputs": [
    {
     "name": "stdout",
     "output_type": "stream",
     "text": [
      "Enter a letter: b\n",
      "['b', '_', '_', '_', '_', '_', '_']\n",
      "Enter a letter: o\n",
      "['b', 'o', '_', '_', '_', '_', '_']\n",
      "['b', 'o', 'o', '_', '_', '_', '_']\n",
      "Enter a letter: l\n",
      "['b', 'o', 'o', 'l', '_', '_', '_']\n",
      "Enter a letter: e\n",
      "['b', 'o', 'o', 'l', 'e', '_', '_']\n",
      "Enter a letter: a\n",
      "['b', 'o', 'o', 'l', 'e', 'a', '_']\n",
      "Enter a letter: n\n",
      "['b', 'o', 'o', 'l', 'e', 'a', 'n']\n",
      "You won!\n"
     ]
    }
   ],
   "source": [
    "def play():\n",
    "    hangman = 'boolean'\n",
    "    blank = ['_'] * len(hangman)\n",
    "    counter = 0\n",
    "    failed = 0 \n",
    "    guessed = False \n",
    "    \n",
    "    while not guessed and failed < 6:\n",
    "        \n",
    "        guessed_word = input('Enter a letter: ')\n",
    "        if len(guessed_word) > 1:\n",
    "            print('Please enter one letter at a time')\n",
    "        \n",
    "        else:\n",
    "        \n",
    "            if guessed_word in hangman:\n",
    "                for index, char in enumerate(hangman):\n",
    "                    if guessed_word == char: \n",
    "                        blank[index] = guessed_word\n",
    "                        print(blank)\n",
    "\n",
    "            else: \n",
    "                failed +=1\n",
    "                print(f\"Sorry! You guessed wrong. You've guessed wrong {failed} time(s)\")\n",
    "\n",
    "            counter +=1\n",
    "\n",
    "            if failed == 6:\n",
    "                print('You lost')\n",
    "\n",
    "            if \"\".join(blank) == hangman:\n",
    "                print('You won!')\n",
    "                guessed = True\n",
    "    \n",
    "play()\n"
   ]
  },
  {
   "cell_type": "code",
   "execution_count": null,
   "id": "861ce22f",
   "metadata": {},
   "outputs": [],
   "source": []
  },
  {
   "cell_type": "code",
   "execution_count": null,
   "id": "554b29cd",
   "metadata": {},
   "outputs": [],
   "source": []
  },
  {
   "cell_type": "code",
   "execution_count": null,
   "id": "b25d7674",
   "metadata": {},
   "outputs": [],
   "source": []
  },
  {
   "cell_type": "code",
   "execution_count": null,
   "id": "df3c9e3d",
   "metadata": {},
   "outputs": [],
   "source": []
  },
  {
   "cell_type": "code",
   "execution_count": null,
   "id": "52555009",
   "metadata": {},
   "outputs": [],
   "source": []
  },
  {
   "cell_type": "code",
   "execution_count": null,
   "id": "358f59ee",
   "metadata": {},
   "outputs": [],
   "source": []
  }
 ],
 "metadata": {
  "kernelspec": {
   "display_name": "Python 3",
   "language": "python",
   "name": "python3"
  },
  "language_info": {
   "codemirror_mode": {
    "name": "ipython",
    "version": 3
   },
   "file_extension": ".py",
   "mimetype": "text/x-python",
   "name": "python",
   "nbconvert_exporter": "python",
   "pygments_lexer": "ipython3",
   "version": "3.9.5"
  }
 },
 "nbformat": 4,
 "nbformat_minor": 5
}
