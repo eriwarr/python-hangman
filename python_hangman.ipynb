{
 "cells": [
  {
   "cell_type": "code",
   "execution_count": 3,
   "id": "2a3c9e79",
   "metadata": {
    "scrolled": true
   },
   "outputs": [
    {
     "name": "stdout",
     "output_type": "stream",
     "text": [
      "Enter a letter: b\n",
      "['b', '_', '_', '_', '_', '_', '_']\n",
      "Enter a letter: l\n",
      "['b', '_', '_', 'l', '_', '_', '_']\n",
      "Enter a letter: o\n",
      "['b', 'o', '_', 'l', '_', '_', '_']\n",
      "['b', 'o', 'o', 'l', '_', '_', '_']\n",
      "Enter a letter: n\n",
      "['b', 'o', 'o', 'l', '_', '_', 'n']\n",
      "Enter a letter: a\n",
      "['b', 'o', 'o', 'l', '_', 'a', 'n']\n",
      "Enter a letter: e\n",
      "['b', 'o', 'o', 'l', 'e', 'a', 'n']\n",
      "You won!\n"
     ]
    }
   ],
   "source": [
    "def play():\n",
    "    hangman = 'boolean'\n",
    "    blank = ['_'] * len(hangman)\n",
    "    incorrect_guesses = 0 \n",
    "    guessed = False \n",
    "    \n",
    "    while not guessed and incorrect_guesses < 6:\n",
    "        \n",
    "        guessed_letter = input('Enter a letter: ')\n",
    "        if len(guessed_letter) > 1:\n",
    "            print('Please enter one letter at a time')\n",
    "        \n",
    "        elif guessed_letter in blank:\n",
    "            print('Sorry you already guessed that letter')\n",
    "        \n",
    "        else:\n",
    "        \n",
    "            if guessed_letter in hangman:\n",
    "                for index, char in enumerate(hangman):\n",
    "                    if guessed_letter == char: \n",
    "                        blank[index] = guessed_letter\n",
    "                        print(blank)\n",
    "\n",
    "            else: \n",
    "                incorrect_guesses +=1\n",
    "                print(f\"Sorry! You guessed wrong. You've guessed wrong {failed} time(s)\")\n",
    "\n",
    "            if incorrect_guesses == 6:\n",
    "                print('You lost')\n",
    "\n",
    "            if \"\".join(blank) == hangman:\n",
    "                print('You won!')\n",
    "                guessed = True\n",
    "    \n",
    "play()\n"
   ]
  },
  {
   "cell_type": "code",
   "execution_count": null,
   "id": "14a099b3",
   "metadata": {},
   "outputs": [],
   "source": []
  },
  {
   "cell_type": "code",
   "execution_count": null,
   "id": "c84cd57b",
   "metadata": {},
   "outputs": [],
   "source": []
  },
  {
   "cell_type": "code",
   "execution_count": null,
   "id": "fcdfcdce",
   "metadata": {},
   "outputs": [],
   "source": []
  },
  {
   "cell_type": "code",
   "execution_count": null,
   "id": "c390b438",
   "metadata": {},
   "outputs": [],
   "source": []
  },
  {
   "cell_type": "code",
   "execution_count": null,
   "id": "435dfc1e",
   "metadata": {},
   "outputs": [],
   "source": []
  },
  {
   "cell_type": "code",
   "execution_count": null,
   "id": "43a73bd5",
   "metadata": {},
   "outputs": [],
   "source": []
  }
 ],
 "metadata": {
  "kernelspec": {
   "display_name": "Python 3",
   "language": "python",
   "name": "python3"
  },
  "language_info": {
   "codemirror_mode": {
    "name": "ipython",
    "version": 3
   },
   "file_extension": ".py",
   "mimetype": "text/x-python",
   "name": "python",
   "nbconvert_exporter": "python",
   "pygments_lexer": "ipython3",
   "version": "3.9.5"
  }
 },
 "nbformat": 4,
 "nbformat_minor": 5
}
